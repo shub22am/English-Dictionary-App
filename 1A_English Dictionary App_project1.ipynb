{
 "cells": [
  {
   "cell_type": "markdown",
   "id": "65da35f7",
   "metadata": {},
   "source": [
    "# 1.A English Dictionary App"
   ]
  },
  {
   "cell_type": "code",
   "execution_count": 1,
   "id": "db96260f",
   "metadata": {},
   "outputs": [
    {
     "name": "stdout",
     "output_type": "stream",
     "text": [
      " File already Exists \n",
      "\n"
     ]
    }
   ],
   "source": [
    "import os\n",
    "import json\n",
    "\n",
    "fileName = \"Dictionary1\" \n",
    "\n",
    "if os.path.isfile(fileName):\n",
    "    f = open(fileName,'a')\n",
    "    print(' File already Exists \\n')\n",
    "else:\n",
    "    f = open(fileName,'w')\n",
    "    dic = {'add':'sum'}\n",
    "    json.dump(dic,f)\n",
    "    \n",
    "f.close()"
   ]
  },
  {
   "cell_type": "code",
   "execution_count": 2,
   "id": "b4d407c8",
   "metadata": {},
   "outputs": [],
   "source": [
    "def add_new_word(word,meaning):\n",
    "    \n",
    "    #creating a dictionery out of text file\n",
    "    f1 = open(\"Dictionary1\",'r')\n",
    "    \n",
    "    temp_dict = json.load(f1)\n",
    "    \n",
    "    f1.close\n",
    "    \n",
    "    if word in temp_dict.keys():\n",
    "        print ('%s already exists if you want to update the meaning of %s use option 3' % (word,word))\n",
    "    else:\n",
    "        f1_1 = open(\"Dictionary1\",'w')\n",
    "        temp_dict[word] = meaning\n",
    "        json.dump(temp_dict,f1_1)\n",
    "        f1_1.close\n",
    "    "
   ]
  },
  {
   "cell_type": "code",
   "execution_count": 3,
   "id": "f68480e3",
   "metadata": {},
   "outputs": [],
   "source": [
    "def find_meaning(word):\n",
    "    \n",
    "    f2 = open(\"Dictionary1\",'r')\n",
    "    \n",
    "    temp_dict = json.load(f2)\n",
    "    \n",
    "    f2.close\n",
    "    \n",
    "    if word in temp_dict.keys():\n",
    "        print ('meaning of %s is : %s' % (word,temp_dict[word]))\n",
    "    else:\n",
    "        print('meaning of %s not found choose option 3 to enter its meaning' %(word))\n",
    "    "
   ]
  },
  {
   "cell_type": "code",
   "execution_count": 4,
   "id": "226d89de",
   "metadata": {},
   "outputs": [],
   "source": [
    "def word_update(word):\n",
    "    \n",
    "    f3 = open(\"Dictionary1\",'r')\n",
    "    \n",
    "    temp_dict = json.load(f3)\n",
    "    \n",
    "    f3.close\n",
    "    \n",
    "    if word in temp_dict.keys():\n",
    "        new_meaning = input(\"Enter the new meaning : \")\n",
    "        f3_1 = open(\"Dictionary1\",'w')\n",
    "        temp_dict[word] = new_meaning\n",
    "        json.dump(temp_dict,f3_1)\n",
    "        f3_1.close\n",
    "        \n",
    "    else:\n",
    "        print ('No word such as %s found in the dictionay to add its meaning use option 1\\n' % (word))\n"
   ]
  },
  {
   "cell_type": "code",
   "execution_count": 5,
   "id": "65fccea8",
   "metadata": {},
   "outputs": [
    {
     "name": "stdout",
     "output_type": "stream",
     "text": [
      "Main Menu \n",
      "\n",
      "Choose option 1 to add a new word \n",
      "\n",
      "Choose option 2 to find the meaning of the word \n",
      "\n",
      "Choose option 3 to update the new meaning of a word \n",
      "\n",
      "Choose option 4 to EXIT \n",
      "\n",
      "\n",
      "\n",
      "choose an option from the above choises : 1\n",
      "Enter the word : lemon\n",
      "Enter the meaning of the above word :yellow fruit\n",
      "Main Menu \n",
      "\n",
      "Choose option 1 to add a new word \n",
      "\n",
      "Choose option 2 to find the meaning of the word \n",
      "\n",
      "Choose option 3 to update the new meaning of a word \n",
      "\n",
      "Choose option 4 to EXIT \n",
      "\n",
      "\n",
      "\n",
      "choose an option from the above choises : 3\n",
      "Enter the word for which you want to update meaning for : yellow fruit with oval shape\n",
      "No word such as yellow fruit with oval shape found in the dictionay to add its meaning use option 1\n",
      "\n",
      "Main Menu \n",
      "\n",
      "Choose option 1 to add a new word \n",
      "\n",
      "Choose option 2 to find the meaning of the word \n",
      "\n",
      "Choose option 3 to update the new meaning of a word \n",
      "\n",
      "Choose option 4 to EXIT \n",
      "\n",
      "\n",
      "\n",
      "choose an option from the above choises : 2\n",
      "Enter the word for whcich you want to know the meaning : apple\n",
      "meaning of apple is : red fruit with sweet taste\n",
      "Main Menu \n",
      "\n",
      "Choose option 1 to add a new word \n",
      "\n",
      "Choose option 2 to find the meaning of the word \n",
      "\n",
      "Choose option 3 to update the new meaning of a word \n",
      "\n",
      "Choose option 4 to EXIT \n",
      "\n",
      "\n",
      "\n",
      "choose an option from the above choises : 4\n",
      "\n",
      " \n",
      "\n",
      "THANK YOU\n",
      "\n",
      " \n",
      "\n"
     ]
    }
   ],
   "source": [
    "while True:\n",
    "    print (\"Main Menu \\n\")\n",
    "    print (\"Choose option 1 to add a new word \\n\")\n",
    "    print (\"Choose option 2 to find the meaning of the word \\n\")\n",
    "    print (\"Choose option 3 to update the new meaning of a word \\n\")\n",
    "    print (\"Choose option 4 to EXIT \\n\")\n",
    "    print(\"\\n\")\n",
    "    option = input('choose an option from the above choises : ')\n",
    "    \n",
    "    if option == \"1\":\n",
    "        word1 = input('Enter the word : ')\n",
    "        #print(\"\\n\")\n",
    "        meaning1 = input('Enter the meaning of the above word :')\n",
    "        add_new_word(word1,meaning1)\n",
    "    elif option == \"2\":\n",
    "        word2 = input('Enter the word for whcich you want to know the meaning : ')\n",
    "        find_meaning(word2)\n",
    "    elif option == \"3\":\n",
    "        word3 = input('Enter the word for which you want to update meaning for : ')\n",
    "        word_update(word3)\n",
    "    elif option == \"4\":\n",
    "        print(\"\\n \\n\")\n",
    "        print(\"THANK YOU\")\n",
    "        print(\"\\n \\n\")\n",
    "        break\n",
    "    "
   ]
  },
  {
   "cell_type": "code",
   "execution_count": null,
   "id": "e74c9bde",
   "metadata": {},
   "outputs": [],
   "source": []
  }
 ],
 "metadata": {
  "kernelspec": {
   "display_name": "Python 3 (ipykernel)",
   "language": "python",
   "name": "python3"
  },
  "language_info": {
   "codemirror_mode": {
    "name": "ipython",
    "version": 3
   },
   "file_extension": ".py",
   "mimetype": "text/x-python",
   "name": "python",
   "nbconvert_exporter": "python",
   "pygments_lexer": "ipython3",
   "version": "3.9.12"
  }
 },
 "nbformat": 4,
 "nbformat_minor": 5
}
